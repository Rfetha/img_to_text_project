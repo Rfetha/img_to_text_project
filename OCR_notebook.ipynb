{
 "cells": [
  {
   "cell_type": "code",
   "execution_count": null,
   "metadata": {},
   "outputs": [],
   "source": [
    "import sys\n",
    "import numpy as np\n",
    "import cv2\n",
    "import time\n",
    "import os\n",
    "import threading\n",
    "import pytesseract\n",
    "import imutils\n",
    "\n",
    "import pytesseract\n",
    "pytesseract.pytesseract.tesseract_cmd = \"C:\\\\Program Files\\\\Tesseract-OCR\\\\tesseract.exe\"                      "
   ]
  },
  {
   "cell_type": "code",
   "execution_count": null,
   "metadata": {},
   "outputs": [],
   "source": [
    "def get_string(img_path):\n",
    "    img = cv2.imread(img_path)\n",
    "    file_name = os.path.basename(img_path).split('.')[0]\n",
    "    file_name = file_name.split()[0]\n",
    "    \n",
    "    output_path = os.path.join('output_path', \"ocr\")\n",
    "\n",
    "    if not os.path.exists(output_path):\n",
    "        os.makedirs(output_path)\n",
    "\n",
    "    img = cv2.resize(img, (int(img.shape[1] * 1.5), int(img.shape[0] * 1.5)), interpolation=cv2.INTER_CUBIC)\n",
    "    img = cv2.cvtColor(img, cv2.COLOR_BGR2GRAY)\n",
    "\n",
    "    rgb_planes = cv2.split(img)\n",
    "    result_planes = []\n",
    "    result_norm_planes = []\n",
    "\n",
    "    for plane in rgb_planes:\n",
    "        dilated_img = cv2.dilate(plane, np.ones((7,7), np.uint8))\n",
    "        bg_img = cv2.medianBlur(dilated_img, 21)\n",
    "        diff_img = 255 - cv2.absdiff(plane, bg_img)\n",
    "        result_planes.append(diff_img)\n",
    "    img = cv2.merge(result_planes)\n",
    "    \n",
    "    kernel = np.ones((1, 1), np.uint8)\n",
    "    img = cv2.dilate(img, kernel, iterations=1)\n",
    "    img = cv2.erode(img, kernel, iterations=1) \n",
    "    \n",
    "    #Apply blur to smooth out the edges\n",
    "    #img = cv2.GaussianBlur(img, (5, 5), 0)\n",
    "    \n",
    "    img = cv2.threshold(img, 0, 255, cv2.THRESH_BINARY + cv2.THRESH_OTSU)[1]\n",
    "    save_path = os.path.join(output_path, file_name + \"_filter_\" + str('as') + \".png\")\n",
    "    cv2.imwrite(save_path, img)\n",
    "    \n",
    "    result = pytesseract.image_to_string(img, lang=\"eng\")\n",
    "    return result"
   ]
  },
  {
   "cell_type": "code",
   "execution_count": null,
   "metadata": {},
   "outputs": [],
   "source": [
    "s = get_string(\"bill.jpg\")\n",
    "t = s.split(sep='\\n')\n",
    "\n",
    "for s in t:\n",
    "    print(s)"
   ]
  },
  {
   "cell_type": "code",
   "execution_count": null,
   "metadata": {},
   "outputs": [],
   "source": [
    "def save_to_txt(img_path, output_txt_path):\n",
    "    text = get_string(img_path)\n",
    "    satir = text.split(sep='\\n')\n",
    "    \n",
    "    with open(output_txt_path, \"w\", encoding=\"utf-8\") as file:\n",
    "        for line in satir:\n",
    "            file.write(line + \"\\n\")\n",
    "    \n",
    "    print(f\"Metin başarıyla '{output_txt_path}' dosyasına kaydedildi.\")\n",
    "\n",
    "# Kullanım:\n",
    "save_to_txt(\"bill.jpg\", \"output.txt\")"
   ]
  }
 ],
 "metadata": {
  "kernelspec": {
   "display_name": "Python 3",
   "language": "python",
   "name": "python3"
  },
  "language_info": {
   "codemirror_mode": {
    "name": "ipython",
    "version": 3
   },
   "file_extension": ".py",
   "mimetype": "text/x-python",
   "name": "python",
   "nbconvert_exporter": "python",
   "pygments_lexer": "ipython3",
   "version": "3.13.2"
  }
 },
 "nbformat": 4,
 "nbformat_minor": 2
}
